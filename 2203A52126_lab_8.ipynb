{
  "nbformat": 4,
  "nbformat_minor": 0,
  "metadata": {
    "colab": {
      "provenance": []
    },
    "kernelspec": {
      "name": "python3",
      "display_name": "Python 3"
    },
    "language_info": {
      "name": "python"
    }
  },
  "cells": [
    {
      "cell_type": "code",
      "source": [
        "import pandas as pd\n",
        "from sklearn.preprocessing import MinMaxScaler\n",
        "from sklearn.decomposition import PCA\n",
        "from sklearn.svm import SVC\n",
        "from sklearn.model_selection import train_test_split\n",
        "from sklearn.metrics import accuracy_score\n",
        "\n",
        "data = pd.read_csv('/content/Wine.csv.xls')\n",
        "features = data.drop('Customer_Segment', axis = 1)\n",
        "target = data['Customer_Segment']\n",
        "\n",
        "\n",
        "scaler = MinMaxScaler()\n",
        "scaled_features = scaler.fit_transform(features)\n",
        "\n",
        "\n",
        "X_train, X_test, y_train, y_test = train_test_split(scaled_features, target, test_size=0.25, random_state=50)\n",
        "\n",
        "\n",
        "clf = SVC()\n",
        "clf.fit(X_train, y_train)\n",
        "\n",
        "\n",
        "y_pred = clf.predict(X_test)\n",
        "y_train_pred = clf.predict(X_train)\n",
        "\n",
        "print(f\"Test Accuracy before PCA: \", accuracy_score(y_test, y_pred))\n",
        "print(f\"Train Accuracy before PCA: \", accuracy_score(y_train, y_train_pred))\n",
        "\n",
        "pca = PCA(n_components = 4)\n",
        "pca.fit(features)\n",
        "X_transformed = pca.transform(features)\n",
        "X_transformed.shape\n",
        "\n",
        "\n",
        "X_train, X_test, y_train, y_test = train_test_split(X_transformed, target, test_size=0.25, random_state=50)\n",
        "\n",
        "\n",
        "clf = SVC()\n",
        "clf.fit(X_train, y_train)\n",
        "\n",
        "\n",
        "y_pred = clf.predict(X_test)\n",
        "y_train_pred = clf.predict(X_train)\n",
        "\n",
        "print(f\"Test Accuracy after PCA: \", accuracy_score(y_test, y_pred))\n",
        "print(f\"Train Accuracy after PCA: \", accuracy_score(y_train, y_train_pred))\n"
      ],
      "metadata": {
        "id": "Nz_vwPOz527d",
        "colab": {
          "base_uri": "https://localhost:8080/"
        },
        "outputId": "0e70cfef-f8cc-40cd-b43e-cbfc9e93250b"
      },
      "execution_count": 25,
      "outputs": [
        {
          "output_type": "stream",
          "name": "stdout",
          "text": [
            "Test Accuracy before PCA:  1.0\n",
            "Train Accuracy before PCA:  0.9924812030075187\n",
            "Test Accuracy after PCA:  0.7333333333333333\n",
            "Train Accuracy after PCA:  0.7293233082706767\n"
          ]
        }
      ]
    },
    {
      "cell_type": "code",
      "source": [
        "import pandas as pd\n",
        "from sklearn.preprocessing import MinMaxScaler\n",
        "from sklearn.linear_model import LogisticRegression\n",
        "from sklearn.svm import SVC\n",
        "from sklearn.model_selection import train_test_split\n",
        "from sklearn.metrics import accuracy_score\n",
        "\n",
        "target_mapping = {'Alive': 1, 'Dead': 0}\n",
        "her2_mapping = {'Positive': 1, 'Negative': 0}\n",
        "tumour_stage_mapping = {'I': 1, 'II': 2, 'III': 3}\n",
        "\n",
        "data['Patient_Status'] = data['Patient_Status'].map(target_mapping)\n",
        "data['HER2 status'] = data['HER2 status'].map(her2_mapping)\n",
        "data['Tumour_Stage'] = data['Tumour_Stage'].map(tumour_stage_mapping)\n",
        "\n",
        "target = data['Patient_Status']\n",
        "\n",
        "columns_to_drop = ['Gender', 'Histology', 'ER status', 'PR status', 'Surgery_type', 'Date_of_Surgery', 'Date_of_Last_Visit']\n",
        "features = data.drop(columns=columns_to_drop)\n",
        "\n"
      ],
      "metadata": {
        "colab": {
          "base_uri": "https://localhost:8080/",
          "height": 375
        },
        "id": "7QfCaePdDCYt",
        "outputId": "3a739013-6455-4114-e9a8-77c52f6012c9"
      },
      "execution_count": 37,
      "outputs": [
        {
          "output_type": "error",
          "ename": "TypeError",
          "evalue": "ignored",
          "traceback": [
            "\u001b[0;31m---------------------------------------------------------------------------\u001b[0m",
            "\u001b[0;31mTypeError\u001b[0m                                 Traceback (most recent call last)",
            "\u001b[0;32m<ipython-input-37-55ac7da9d98e>\u001b[0m in \u001b[0;36m<cell line: 25>\u001b[0;34m()\u001b[0m\n\u001b[1;32m     23\u001b[0m \u001b[0;34m\u001b[0m\u001b[0m\n\u001b[1;32m     24\u001b[0m \u001b[0;34m\u001b[0m\u001b[0m\n\u001b[0;32m---> 25\u001b[0;31m \u001b[0mX_train\u001b[0m\u001b[0;34m,\u001b[0m \u001b[0mX_test\u001b[0m\u001b[0;34m,\u001b[0m \u001b[0my_train\u001b[0m\u001b[0;34m,\u001b[0m \u001b[0my_test\u001b[0m \u001b[0;34m=\u001b[0m \u001b[0mtrain_test_split\u001b[0m\u001b[0;34m(\u001b[0m\u001b[0mfeatures\u001b[0m\u001b[0;34m,\u001b[0m \u001b[0mtarget\u001b[0m\u001b[0;34m,\u001b[0m \u001b[0mtest_size\u001b[0m\u001b[0;34m=\u001b[0m\u001b[0;36m0.25\u001b[0m\u001b[0;34m,\u001b[0m \u001b[0mrandom_state\u001b[0m\u001b[0;34m=\u001b[0m\u001b[0;36m50\u001b[0m\u001b[0;34m)\u001b[0m\u001b[0;34m\u001b[0m\u001b[0;34m\u001b[0m\u001b[0m\n\u001b[0m\u001b[1;32m     26\u001b[0m \u001b[0;34m\u001b[0m\u001b[0m\n\u001b[1;32m     27\u001b[0m \u001b[0;34m\u001b[0m\u001b[0m\n",
            "\u001b[0;32m/usr/local/lib/python3.10/dist-packages/sklearn/model_selection/_split.py\u001b[0m in \u001b[0;36mtrain_test_split\u001b[0;34m(test_size, train_size, random_state, shuffle, stratify, *arrays)\u001b[0m\n\u001b[1;32m   2583\u001b[0m         \u001b[0mtrain\u001b[0m\u001b[0;34m,\u001b[0m \u001b[0mtest\u001b[0m \u001b[0;34m=\u001b[0m \u001b[0mnext\u001b[0m\u001b[0;34m(\u001b[0m\u001b[0mcv\u001b[0m\u001b[0;34m.\u001b[0m\u001b[0msplit\u001b[0m\u001b[0;34m(\u001b[0m\u001b[0mX\u001b[0m\u001b[0;34m=\u001b[0m\u001b[0marrays\u001b[0m\u001b[0;34m[\u001b[0m\u001b[0;36m0\u001b[0m\u001b[0;34m]\u001b[0m\u001b[0;34m,\u001b[0m \u001b[0my\u001b[0m\u001b[0;34m=\u001b[0m\u001b[0mstratify\u001b[0m\u001b[0;34m)\u001b[0m\u001b[0;34m)\u001b[0m\u001b[0;34m\u001b[0m\u001b[0;34m\u001b[0m\u001b[0m\n\u001b[1;32m   2584\u001b[0m \u001b[0;34m\u001b[0m\u001b[0m\n\u001b[0;32m-> 2585\u001b[0;31m     return list(\n\u001b[0m\u001b[1;32m   2586\u001b[0m         chain.from_iterable(\n\u001b[1;32m   2587\u001b[0m             \u001b[0;34m(\u001b[0m\u001b[0m_safe_indexing\u001b[0m\u001b[0;34m(\u001b[0m\u001b[0ma\u001b[0m\u001b[0;34m,\u001b[0m \u001b[0mtrain\u001b[0m\u001b[0;34m)\u001b[0m\u001b[0;34m,\u001b[0m \u001b[0m_safe_indexing\u001b[0m\u001b[0;34m(\u001b[0m\u001b[0ma\u001b[0m\u001b[0;34m,\u001b[0m \u001b[0mtest\u001b[0m\u001b[0;34m)\u001b[0m\u001b[0;34m)\u001b[0m \u001b[0;32mfor\u001b[0m \u001b[0ma\u001b[0m \u001b[0;32min\u001b[0m \u001b[0marrays\u001b[0m\u001b[0;34m\u001b[0m\u001b[0;34m\u001b[0m\u001b[0m\n",
            "\u001b[0;32m/usr/local/lib/python3.10/dist-packages/sklearn/model_selection/_split.py\u001b[0m in \u001b[0;36m<genexpr>\u001b[0;34m(.0)\u001b[0m\n\u001b[1;32m   2585\u001b[0m     return list(\n\u001b[1;32m   2586\u001b[0m         chain.from_iterable(\n\u001b[0;32m-> 2587\u001b[0;31m             \u001b[0;34m(\u001b[0m\u001b[0m_safe_indexing\u001b[0m\u001b[0;34m(\u001b[0m\u001b[0ma\u001b[0m\u001b[0;34m,\u001b[0m \u001b[0mtrain\u001b[0m\u001b[0;34m)\u001b[0m\u001b[0;34m,\u001b[0m \u001b[0m_safe_indexing\u001b[0m\u001b[0;34m(\u001b[0m\u001b[0ma\u001b[0m\u001b[0;34m,\u001b[0m \u001b[0mtest\u001b[0m\u001b[0;34m)\u001b[0m\u001b[0;34m)\u001b[0m \u001b[0;32mfor\u001b[0m \u001b[0ma\u001b[0m \u001b[0;32min\u001b[0m \u001b[0marrays\u001b[0m\u001b[0;34m\u001b[0m\u001b[0;34m\u001b[0m\u001b[0m\n\u001b[0m\u001b[1;32m   2588\u001b[0m         )\n\u001b[1;32m   2589\u001b[0m     )\n",
            "\u001b[0;32m/usr/local/lib/python3.10/dist-packages/sklearn/utils/__init__.py\u001b[0m in \u001b[0;36m_safe_indexing\u001b[0;34m(X, indices, axis)\u001b[0m\n\u001b[1;32m    356\u001b[0m         \u001b[0;32mreturn\u001b[0m \u001b[0m_array_indexing\u001b[0m\u001b[0;34m(\u001b[0m\u001b[0mX\u001b[0m\u001b[0;34m,\u001b[0m \u001b[0mindices\u001b[0m\u001b[0;34m,\u001b[0m \u001b[0mindices_dtype\u001b[0m\u001b[0;34m,\u001b[0m \u001b[0maxis\u001b[0m\u001b[0;34m=\u001b[0m\u001b[0maxis\u001b[0m\u001b[0;34m)\u001b[0m\u001b[0;34m\u001b[0m\u001b[0;34m\u001b[0m\u001b[0m\n\u001b[1;32m    357\u001b[0m     \u001b[0;32melse\u001b[0m\u001b[0;34m:\u001b[0m\u001b[0;34m\u001b[0m\u001b[0;34m\u001b[0m\u001b[0m\n\u001b[0;32m--> 358\u001b[0;31m         \u001b[0;32mreturn\u001b[0m \u001b[0m_list_indexing\u001b[0m\u001b[0;34m(\u001b[0m\u001b[0mX\u001b[0m\u001b[0;34m,\u001b[0m \u001b[0mindices\u001b[0m\u001b[0;34m,\u001b[0m \u001b[0mindices_dtype\u001b[0m\u001b[0;34m)\u001b[0m\u001b[0;34m\u001b[0m\u001b[0;34m\u001b[0m\u001b[0m\n\u001b[0m\u001b[1;32m    359\u001b[0m \u001b[0;34m\u001b[0m\u001b[0m\n\u001b[1;32m    360\u001b[0m \u001b[0;34m\u001b[0m\u001b[0m\n",
            "\u001b[0;32m/usr/local/lib/python3.10/dist-packages/sklearn/utils/__init__.py\u001b[0m in \u001b[0;36m_list_indexing\u001b[0;34m(X, key, key_dtype)\u001b[0m\n\u001b[1;32m    210\u001b[0m         \u001b[0;32mreturn\u001b[0m \u001b[0mlist\u001b[0m\u001b[0;34m(\u001b[0m\u001b[0mcompress\u001b[0m\u001b[0;34m(\u001b[0m\u001b[0mX\u001b[0m\u001b[0;34m,\u001b[0m \u001b[0mkey\u001b[0m\u001b[0;34m)\u001b[0m\u001b[0;34m)\u001b[0m\u001b[0;34m\u001b[0m\u001b[0;34m\u001b[0m\u001b[0m\n\u001b[1;32m    211\u001b[0m     \u001b[0;31m# key is a integer array-like of key\u001b[0m\u001b[0;34m\u001b[0m\u001b[0;34m\u001b[0m\u001b[0m\n\u001b[0;32m--> 212\u001b[0;31m     \u001b[0;32mreturn\u001b[0m \u001b[0;34m[\u001b[0m\u001b[0mX\u001b[0m\u001b[0;34m[\u001b[0m\u001b[0midx\u001b[0m\u001b[0;34m]\u001b[0m \u001b[0;32mfor\u001b[0m \u001b[0midx\u001b[0m \u001b[0;32min\u001b[0m \u001b[0mkey\u001b[0m\u001b[0;34m]\u001b[0m\u001b[0;34m\u001b[0m\u001b[0;34m\u001b[0m\u001b[0m\n\u001b[0m\u001b[1;32m    213\u001b[0m \u001b[0;34m\u001b[0m\u001b[0m\n\u001b[1;32m    214\u001b[0m \u001b[0;34m\u001b[0m\u001b[0m\n",
            "\u001b[0;32m/usr/local/lib/python3.10/dist-packages/sklearn/utils/__init__.py\u001b[0m in \u001b[0;36m<listcomp>\u001b[0;34m(.0)\u001b[0m\n\u001b[1;32m    210\u001b[0m         \u001b[0;32mreturn\u001b[0m \u001b[0mlist\u001b[0m\u001b[0;34m(\u001b[0m\u001b[0mcompress\u001b[0m\u001b[0;34m(\u001b[0m\u001b[0mX\u001b[0m\u001b[0;34m,\u001b[0m \u001b[0mkey\u001b[0m\u001b[0;34m)\u001b[0m\u001b[0;34m)\u001b[0m\u001b[0;34m\u001b[0m\u001b[0;34m\u001b[0m\u001b[0m\n\u001b[1;32m    211\u001b[0m     \u001b[0;31m# key is a integer array-like of key\u001b[0m\u001b[0;34m\u001b[0m\u001b[0;34m\u001b[0m\u001b[0m\n\u001b[0;32m--> 212\u001b[0;31m     \u001b[0;32mreturn\u001b[0m \u001b[0;34m[\u001b[0m\u001b[0mX\u001b[0m\u001b[0;34m[\u001b[0m\u001b[0midx\u001b[0m\u001b[0;34m]\u001b[0m \u001b[0;32mfor\u001b[0m \u001b[0midx\u001b[0m \u001b[0;32min\u001b[0m \u001b[0mkey\u001b[0m\u001b[0;34m]\u001b[0m\u001b[0;34m\u001b[0m\u001b[0;34m\u001b[0m\u001b[0m\n\u001b[0m\u001b[1;32m    213\u001b[0m \u001b[0;34m\u001b[0m\u001b[0m\n\u001b[1;32m    214\u001b[0m \u001b[0;34m\u001b[0m\u001b[0m\n",
            "\u001b[0;31mTypeError\u001b[0m: 'NoneType' object is not subscriptable"
          ]
        }
      ]
    },
    {
      "cell_type": "code",
      "source": [
        "X_train, X_test, y_train, y_test = train_test_split(features, target, test_size=0.25, random_state=50)\n",
        "\n",
        "\n",
        "\n",
        "logistic_regression_model = LogisticRegression()\n",
        "logistic_regression_model.fit(X_train, y_train)\n",
        "\n",
        "\n",
        "y_pred = logistic_regression_model.predict(X_test)\n",
        "\n",
        "\n",
        "accuracy = accuracy_score(y_test, y_pred)\n",
        "\n",
        "\n",
        "print(f\"Logistic Regression Accuracy: {accuracy:.2%}\")"
      ],
      "metadata": {
        "colab": {
          "base_uri": "https://localhost:8080/",
          "height": 375
        },
        "id": "3F2XQ_umHbnO",
        "outputId": "99d7d877-a3b0-4ab4-b299-b9af2c5ea242"
      },
      "execution_count": 38,
      "outputs": [
        {
          "output_type": "error",
          "ename": "TypeError",
          "evalue": "ignored",
          "traceback": [
            "\u001b[0;31m---------------------------------------------------------------------------\u001b[0m",
            "\u001b[0;31mTypeError\u001b[0m                                 Traceback (most recent call last)",
            "\u001b[0;32m<ipython-input-38-8c4cf5a1b800>\u001b[0m in \u001b[0;36m<cell line: 1>\u001b[0;34m()\u001b[0m\n\u001b[0;32m----> 1\u001b[0;31m \u001b[0mX_train\u001b[0m\u001b[0;34m,\u001b[0m \u001b[0mX_test\u001b[0m\u001b[0;34m,\u001b[0m \u001b[0my_train\u001b[0m\u001b[0;34m,\u001b[0m \u001b[0my_test\u001b[0m \u001b[0;34m=\u001b[0m \u001b[0mtrain_test_split\u001b[0m\u001b[0;34m(\u001b[0m\u001b[0mfeatures\u001b[0m\u001b[0;34m,\u001b[0m \u001b[0mtarget\u001b[0m\u001b[0;34m,\u001b[0m \u001b[0mtest_size\u001b[0m\u001b[0;34m=\u001b[0m\u001b[0;36m0.25\u001b[0m\u001b[0;34m,\u001b[0m \u001b[0mrandom_state\u001b[0m\u001b[0;34m=\u001b[0m\u001b[0;36m50\u001b[0m\u001b[0;34m)\u001b[0m\u001b[0;34m\u001b[0m\u001b[0;34m\u001b[0m\u001b[0m\n\u001b[0m\u001b[1;32m      2\u001b[0m \u001b[0;34m\u001b[0m\u001b[0m\n\u001b[1;32m      3\u001b[0m \u001b[0;34m\u001b[0m\u001b[0m\n\u001b[1;32m      4\u001b[0m \u001b[0;34m\u001b[0m\u001b[0m\n\u001b[1;32m      5\u001b[0m \u001b[0mlogistic_regression_model\u001b[0m \u001b[0;34m=\u001b[0m \u001b[0mLogisticRegression\u001b[0m\u001b[0;34m(\u001b[0m\u001b[0;34m)\u001b[0m\u001b[0;34m\u001b[0m\u001b[0;34m\u001b[0m\u001b[0m\n",
            "\u001b[0;32m/usr/local/lib/python3.10/dist-packages/sklearn/model_selection/_split.py\u001b[0m in \u001b[0;36mtrain_test_split\u001b[0;34m(test_size, train_size, random_state, shuffle, stratify, *arrays)\u001b[0m\n\u001b[1;32m   2583\u001b[0m         \u001b[0mtrain\u001b[0m\u001b[0;34m,\u001b[0m \u001b[0mtest\u001b[0m \u001b[0;34m=\u001b[0m \u001b[0mnext\u001b[0m\u001b[0;34m(\u001b[0m\u001b[0mcv\u001b[0m\u001b[0;34m.\u001b[0m\u001b[0msplit\u001b[0m\u001b[0;34m(\u001b[0m\u001b[0mX\u001b[0m\u001b[0;34m=\u001b[0m\u001b[0marrays\u001b[0m\u001b[0;34m[\u001b[0m\u001b[0;36m0\u001b[0m\u001b[0;34m]\u001b[0m\u001b[0;34m,\u001b[0m \u001b[0my\u001b[0m\u001b[0;34m=\u001b[0m\u001b[0mstratify\u001b[0m\u001b[0;34m)\u001b[0m\u001b[0;34m)\u001b[0m\u001b[0;34m\u001b[0m\u001b[0;34m\u001b[0m\u001b[0m\n\u001b[1;32m   2584\u001b[0m \u001b[0;34m\u001b[0m\u001b[0m\n\u001b[0;32m-> 2585\u001b[0;31m     return list(\n\u001b[0m\u001b[1;32m   2586\u001b[0m         chain.from_iterable(\n\u001b[1;32m   2587\u001b[0m             \u001b[0;34m(\u001b[0m\u001b[0m_safe_indexing\u001b[0m\u001b[0;34m(\u001b[0m\u001b[0ma\u001b[0m\u001b[0;34m,\u001b[0m \u001b[0mtrain\u001b[0m\u001b[0;34m)\u001b[0m\u001b[0;34m,\u001b[0m \u001b[0m_safe_indexing\u001b[0m\u001b[0;34m(\u001b[0m\u001b[0ma\u001b[0m\u001b[0;34m,\u001b[0m \u001b[0mtest\u001b[0m\u001b[0;34m)\u001b[0m\u001b[0;34m)\u001b[0m \u001b[0;32mfor\u001b[0m \u001b[0ma\u001b[0m \u001b[0;32min\u001b[0m \u001b[0marrays\u001b[0m\u001b[0;34m\u001b[0m\u001b[0;34m\u001b[0m\u001b[0m\n",
            "\u001b[0;32m/usr/local/lib/python3.10/dist-packages/sklearn/model_selection/_split.py\u001b[0m in \u001b[0;36m<genexpr>\u001b[0;34m(.0)\u001b[0m\n\u001b[1;32m   2585\u001b[0m     return list(\n\u001b[1;32m   2586\u001b[0m         chain.from_iterable(\n\u001b[0;32m-> 2587\u001b[0;31m             \u001b[0;34m(\u001b[0m\u001b[0m_safe_indexing\u001b[0m\u001b[0;34m(\u001b[0m\u001b[0ma\u001b[0m\u001b[0;34m,\u001b[0m \u001b[0mtrain\u001b[0m\u001b[0;34m)\u001b[0m\u001b[0;34m,\u001b[0m \u001b[0m_safe_indexing\u001b[0m\u001b[0;34m(\u001b[0m\u001b[0ma\u001b[0m\u001b[0;34m,\u001b[0m \u001b[0mtest\u001b[0m\u001b[0;34m)\u001b[0m\u001b[0;34m)\u001b[0m \u001b[0;32mfor\u001b[0m \u001b[0ma\u001b[0m \u001b[0;32min\u001b[0m \u001b[0marrays\u001b[0m\u001b[0;34m\u001b[0m\u001b[0;34m\u001b[0m\u001b[0m\n\u001b[0m\u001b[1;32m   2588\u001b[0m         )\n\u001b[1;32m   2589\u001b[0m     )\n",
            "\u001b[0;32m/usr/local/lib/python3.10/dist-packages/sklearn/utils/__init__.py\u001b[0m in \u001b[0;36m_safe_indexing\u001b[0;34m(X, indices, axis)\u001b[0m\n\u001b[1;32m    356\u001b[0m         \u001b[0;32mreturn\u001b[0m \u001b[0m_array_indexing\u001b[0m\u001b[0;34m(\u001b[0m\u001b[0mX\u001b[0m\u001b[0;34m,\u001b[0m \u001b[0mindices\u001b[0m\u001b[0;34m,\u001b[0m \u001b[0mindices_dtype\u001b[0m\u001b[0;34m,\u001b[0m \u001b[0maxis\u001b[0m\u001b[0;34m=\u001b[0m\u001b[0maxis\u001b[0m\u001b[0;34m)\u001b[0m\u001b[0;34m\u001b[0m\u001b[0;34m\u001b[0m\u001b[0m\n\u001b[1;32m    357\u001b[0m     \u001b[0;32melse\u001b[0m\u001b[0;34m:\u001b[0m\u001b[0;34m\u001b[0m\u001b[0;34m\u001b[0m\u001b[0m\n\u001b[0;32m--> 358\u001b[0;31m         \u001b[0;32mreturn\u001b[0m \u001b[0m_list_indexing\u001b[0m\u001b[0;34m(\u001b[0m\u001b[0mX\u001b[0m\u001b[0;34m,\u001b[0m \u001b[0mindices\u001b[0m\u001b[0;34m,\u001b[0m \u001b[0mindices_dtype\u001b[0m\u001b[0;34m)\u001b[0m\u001b[0;34m\u001b[0m\u001b[0;34m\u001b[0m\u001b[0m\n\u001b[0m\u001b[1;32m    359\u001b[0m \u001b[0;34m\u001b[0m\u001b[0m\n\u001b[1;32m    360\u001b[0m \u001b[0;34m\u001b[0m\u001b[0m\n",
            "\u001b[0;32m/usr/local/lib/python3.10/dist-packages/sklearn/utils/__init__.py\u001b[0m in \u001b[0;36m_list_indexing\u001b[0;34m(X, key, key_dtype)\u001b[0m\n\u001b[1;32m    210\u001b[0m         \u001b[0;32mreturn\u001b[0m \u001b[0mlist\u001b[0m\u001b[0;34m(\u001b[0m\u001b[0mcompress\u001b[0m\u001b[0;34m(\u001b[0m\u001b[0mX\u001b[0m\u001b[0;34m,\u001b[0m \u001b[0mkey\u001b[0m\u001b[0;34m)\u001b[0m\u001b[0;34m)\u001b[0m\u001b[0;34m\u001b[0m\u001b[0;34m\u001b[0m\u001b[0m\n\u001b[1;32m    211\u001b[0m     \u001b[0;31m# key is a integer array-like of key\u001b[0m\u001b[0;34m\u001b[0m\u001b[0;34m\u001b[0m\u001b[0m\n\u001b[0;32m--> 212\u001b[0;31m     \u001b[0;32mreturn\u001b[0m \u001b[0;34m[\u001b[0m\u001b[0mX\u001b[0m\u001b[0;34m[\u001b[0m\u001b[0midx\u001b[0m\u001b[0;34m]\u001b[0m \u001b[0;32mfor\u001b[0m \u001b[0midx\u001b[0m \u001b[0;32min\u001b[0m \u001b[0mkey\u001b[0m\u001b[0;34m]\u001b[0m\u001b[0;34m\u001b[0m\u001b[0;34m\u001b[0m\u001b[0m\n\u001b[0m\u001b[1;32m    213\u001b[0m \u001b[0;34m\u001b[0m\u001b[0m\n\u001b[1;32m    214\u001b[0m \u001b[0;34m\u001b[0m\u001b[0m\n",
            "\u001b[0;32m/usr/local/lib/python3.10/dist-packages/sklearn/utils/__init__.py\u001b[0m in \u001b[0;36m<listcomp>\u001b[0;34m(.0)\u001b[0m\n\u001b[1;32m    210\u001b[0m         \u001b[0;32mreturn\u001b[0m \u001b[0mlist\u001b[0m\u001b[0;34m(\u001b[0m\u001b[0mcompress\u001b[0m\u001b[0;34m(\u001b[0m\u001b[0mX\u001b[0m\u001b[0;34m,\u001b[0m \u001b[0mkey\u001b[0m\u001b[0;34m)\u001b[0m\u001b[0;34m)\u001b[0m\u001b[0;34m\u001b[0m\u001b[0;34m\u001b[0m\u001b[0m\n\u001b[1;32m    211\u001b[0m     \u001b[0;31m# key is a integer array-like of key\u001b[0m\u001b[0;34m\u001b[0m\u001b[0;34m\u001b[0m\u001b[0m\n\u001b[0;32m--> 212\u001b[0;31m     \u001b[0;32mreturn\u001b[0m \u001b[0;34m[\u001b[0m\u001b[0mX\u001b[0m\u001b[0;34m[\u001b[0m\u001b[0midx\u001b[0m\u001b[0;34m]\u001b[0m \u001b[0;32mfor\u001b[0m \u001b[0midx\u001b[0m \u001b[0;32min\u001b[0m \u001b[0mkey\u001b[0m\u001b[0;34m]\u001b[0m\u001b[0;34m\u001b[0m\u001b[0;34m\u001b[0m\u001b[0m\n\u001b[0m\u001b[1;32m    213\u001b[0m \u001b[0;34m\u001b[0m\u001b[0m\n\u001b[1;32m    214\u001b[0m \u001b[0;34m\u001b[0m\u001b[0m\n",
            "\u001b[0;31mTypeError\u001b[0m: 'NoneType' object is not subscriptable"
          ]
        }
      ]
    },
    {
      "cell_type": "code",
      "source": [
        "import numpy as np\n",
        "import pandas as pd\n",
        "from sklearn.preprocessing import MinMaxScaler\n",
        "from sklearn.model_selection import train_test_split\n",
        "from sklearn.linear_model import LogisticRegression\n",
        "from sklearn.svm import SVC\n",
        "from sklearn.metrics import accuracy_score\n",
        "\n",
        "a = pd.read_csv('/content/breast_cancer_survival.csv')\n",
        "\n",
        "b = [\"Gender\", \"Histology\", \"ER status\", \"PR status\", \"Surgery_type\", \"Date_of_Surgery\", \"Date_of_Last_Visit\"]\n",
        "c = a.drop(columns=b)\n",
        "\n",
        "def map_tumour_stage(stage):\n",
        "    if stage == 'I':\n",
        "        return 1\n",
        "    elif stage == 'II':\n",
        "        return 2\n",
        "    else:\n",
        "        return 3\n",
        "\n",
        "c['modified Tumour_Stage'] = c['Tumour_Stage'].apply(map_tumour_stage)\n",
        "c[\"mod_Patient_Status\"] = [1 if x == \"Alive\" else 0 for x in c[\"Patient_Status\"]]\n",
        "\n",
        "d = c.drop(columns=['Tumour_Stage', 'Patient_Status'], axis=1)\n",
        "d[\"modified_HER2 status\"] = [1 if x == \"Positive\" else 0 for x in d['HER2 status']]\n",
        "x = d.drop([\"HER2 status\", \"mod_Patient_Status\"], axis=1)\n",
        "y = d[\"mod_Patient_Status\"]\n",
        "\n",
        "X_train, X_test, y_train, y_test = train_test_split(x, y, test_size=0.25, random_state=50)\n",
        "\n",
        "\n",
        "logistic_model = LogisticRegression()\n",
        "logistic_model.fit(X_train, y_train)\n",
        "\n",
        "\n",
        "svm_model = SVC()\n",
        "svm_model.fit(X_train, y_train)\n",
        "\n",
        "\n",
        "y_pred_logistic = logistic_model.predict(X_test)\n",
        "accuracy_logistic = accuracy_score(y_test, y_pred_logistic)\n",
        "print(\"Logistic Regression Accuracy:\", accuracy_logistic)\n",
        "\n",
        "y_pred_svm = svm_model.predict(X_test)\n",
        "accuracy_svm = accuracy_score(y_test, y_pred_svm)\n",
        "print(\"SVM Accuracy:\", accuracy_svm)\n",
        "\n"
      ],
      "metadata": {
        "colab": {
          "base_uri": "https://localhost:8080/"
        },
        "id": "nK1dKkeQHxcD",
        "outputId": "56801851-0c3a-4798-cd14-58955ab0992b"
      },
      "execution_count": 41,
      "outputs": [
        {
          "output_type": "stream",
          "name": "stdout",
          "text": [
            "Logistic Regression Accuracy: 0.7142857142857143\n",
            "SVM Accuracy: 0.7142857142857143\n"
          ]
        }
      ]
    },
    {
      "cell_type": "code",
      "source": [
        "import pandas as pd\n",
        "from sklearn.model_selection import train_test_split\n",
        "from sklearn.linear_model import LogisticRegression\n",
        "from sklearn.svm import SVC\n",
        "from sklearn.metrics import accuracy_score\n",
        "\n",
        "\n",
        "\n",
        "data = pd.read_csv('/content/breast_cancer_survival.csv')\n",
        "\n",
        "\n",
        "\n",
        "drop_columns = [\"Gender\", \"Histology\", \"ER status\", \"PR status\", \"Surgery_type\", \"Date_of_Surgery\", \"Date_of_Last_Visit\"]\n",
        "data = data.drop(columns=drop_columns)\n",
        "\n",
        "\n",
        "\n",
        "data['modified_Tumour_Stage'] = data['Tumour_Stage'].map({'I': 1, 'II': 2}).fillna(3)\n",
        "data['mod_Patient_Status'] = (data['Patient_Status'] == 'Alive').astype(int)\n",
        "data['modified_HER2_status'] = (data['HER2 status'] == 'Positive').astype(int)\n",
        "\n",
        "\n",
        "\n",
        "X = data.drop(['Tumour_Stage', 'Patient_Status', 'mod_Patient_Status', 'HER2 status'], axis=1)\n",
        "y = data['mod_Patient_Status']\n",
        "\n",
        "\n",
        "\n",
        "X_train, X_test, y_train, y_test = train_test_split(X, y, test_size=0.25, random_state=50)\n",
        "\n",
        "\n",
        "\n",
        "logistic_model = LogisticRegression().fit(X_train, y_train)\n",
        "svm_model = SVC().fit(X_train, y_train)\n",
        "\n",
        "\n",
        "\n",
        "accuracy_logistic = accuracy_score(y_test, logistic_model.predict(X_test))\n",
        "accuracy_svm = accuracy_score(y_test, svm_model.predict(X_test))\n",
        "\n",
        "\n",
        "\n",
        "print(\"Logistic Regression Accuracy:\", accuracy_logistic)\n",
        "print(\"SVM Accuracy:\", accuracy_svm)\n",
        "\n",
        "\n",
        "n_bootstraps = 100\n",
        "sample_sizes = range(1, 51)\n",
        "\n",
        "\n",
        "logistic_uncertainty = []\n",
        "svm_uncertainty = []\n",
        "\n",
        "for size in sample_sizes:\n",
        "    logistic_bootstrap_uncertainty = []\n",
        "    svm_bootstrap_uncertainty = []\n",
        "    for _ in range(n_bootstraps):\n",
        "\n",
        "        bootstrap_indices = np.random.choice(len(y_test), size, replace=True)\n",
        "        X_bootstrap = X_test.iloc[bootstrap_indices]\n",
        "        y_bootstrap = y_test.iloc[bootstrap_indices]\n",
        "\n",
        "\n",
        "        logistic_pred = logistic_model.predict(X_bootstrap)\n",
        "        svm_pred = svm_model.predict(X_bootstrap)\n",
        "\n",
        "\n",
        "        logistic_accuracy = accuracy_score(y_bootstrap, logistic_pred)\n",
        "        svm_accuracy = accuracy_score(y_bootstrap, svm_pred)\n",
        "\n",
        "        logistic_bootstrap_uncertainty.append(1 - logistic_accuracy)\n",
        "        svm_bootstrap_uncertainty.append(1 - svm_accuracy)\n",
        "\n",
        "    logistic_uncertainty.append(np.mean(logistic_bootstrap_uncertainty))\n",
        "    svm_uncertainty.append(np.mean(svm_bootstrap_uncertainty))\n",
        "\n",
        "\n",
        "for i, size in enumerate(sample_sizes):\n",
        "    print(f\"Sample Size {size}: Logistic Regression Bootstrap Uncertainty {logistic_uncertainty[i]:.2%}, SVM Bootstrap Uncertainty {svm_uncertainty[i]:.2%}\")"
      ],
      "metadata": {
        "colab": {
          "base_uri": "https://localhost:8080/"
        },
        "id": "qD3oeSZ-IaC6",
        "outputId": "4d0e5e29-cd5c-4dae-ff5b-bdb953a2f367"
      },
      "execution_count": 44,
      "outputs": [
        {
          "output_type": "stream",
          "name": "stdout",
          "text": [
            "Logistic Regression Accuracy: 0.7142857142857143\n",
            "SVM Accuracy: 0.7142857142857143\n",
            "Sample Size 1: Logistic Regression Bootstrap Uncertainty 36.00%, SVM Bootstrap Uncertainty 36.00%\n",
            "Sample Size 2: Logistic Regression Bootstrap Uncertainty 25.50%, SVM Bootstrap Uncertainty 25.50%\n",
            "Sample Size 3: Logistic Regression Bootstrap Uncertainty 27.33%, SVM Bootstrap Uncertainty 27.33%\n",
            "Sample Size 4: Logistic Regression Bootstrap Uncertainty 28.00%, SVM Bootstrap Uncertainty 28.00%\n",
            "Sample Size 5: Logistic Regression Bootstrap Uncertainty 30.20%, SVM Bootstrap Uncertainty 30.20%\n",
            "Sample Size 6: Logistic Regression Bootstrap Uncertainty 28.17%, SVM Bootstrap Uncertainty 28.17%\n",
            "Sample Size 7: Logistic Regression Bootstrap Uncertainty 28.57%, SVM Bootstrap Uncertainty 28.57%\n",
            "Sample Size 8: Logistic Regression Bootstrap Uncertainty 29.38%, SVM Bootstrap Uncertainty 29.38%\n",
            "Sample Size 9: Logistic Regression Bootstrap Uncertainty 29.67%, SVM Bootstrap Uncertainty 29.67%\n",
            "Sample Size 10: Logistic Regression Bootstrap Uncertainty 31.30%, SVM Bootstrap Uncertainty 31.30%\n",
            "Sample Size 11: Logistic Regression Bootstrap Uncertainty 29.82%, SVM Bootstrap Uncertainty 29.82%\n",
            "Sample Size 12: Logistic Regression Bootstrap Uncertainty 27.58%, SVM Bootstrap Uncertainty 27.58%\n",
            "Sample Size 13: Logistic Regression Bootstrap Uncertainty 30.00%, SVM Bootstrap Uncertainty 30.00%\n",
            "Sample Size 14: Logistic Regression Bootstrap Uncertainty 31.14%, SVM Bootstrap Uncertainty 31.14%\n",
            "Sample Size 15: Logistic Regression Bootstrap Uncertainty 29.80%, SVM Bootstrap Uncertainty 29.80%\n",
            "Sample Size 16: Logistic Regression Bootstrap Uncertainty 30.31%, SVM Bootstrap Uncertainty 30.31%\n",
            "Sample Size 17: Logistic Regression Bootstrap Uncertainty 30.06%, SVM Bootstrap Uncertainty 30.06%\n",
            "Sample Size 18: Logistic Regression Bootstrap Uncertainty 28.94%, SVM Bootstrap Uncertainty 28.94%\n",
            "Sample Size 19: Logistic Regression Bootstrap Uncertainty 29.00%, SVM Bootstrap Uncertainty 29.00%\n",
            "Sample Size 20: Logistic Regression Bootstrap Uncertainty 28.30%, SVM Bootstrap Uncertainty 28.30%\n",
            "Sample Size 21: Logistic Regression Bootstrap Uncertainty 28.38%, SVM Bootstrap Uncertainty 28.38%\n",
            "Sample Size 22: Logistic Regression Bootstrap Uncertainty 27.41%, SVM Bootstrap Uncertainty 27.41%\n",
            "Sample Size 23: Logistic Regression Bootstrap Uncertainty 29.13%, SVM Bootstrap Uncertainty 29.13%\n",
            "Sample Size 24: Logistic Regression Bootstrap Uncertainty 28.17%, SVM Bootstrap Uncertainty 28.17%\n",
            "Sample Size 25: Logistic Regression Bootstrap Uncertainty 29.36%, SVM Bootstrap Uncertainty 29.36%\n",
            "Sample Size 26: Logistic Regression Bootstrap Uncertainty 28.38%, SVM Bootstrap Uncertainty 28.38%\n",
            "Sample Size 27: Logistic Regression Bootstrap Uncertainty 28.04%, SVM Bootstrap Uncertainty 28.04%\n",
            "Sample Size 28: Logistic Regression Bootstrap Uncertainty 28.29%, SVM Bootstrap Uncertainty 28.29%\n",
            "Sample Size 29: Logistic Regression Bootstrap Uncertainty 27.45%, SVM Bootstrap Uncertainty 27.45%\n",
            "Sample Size 30: Logistic Regression Bootstrap Uncertainty 28.03%, SVM Bootstrap Uncertainty 28.03%\n",
            "Sample Size 31: Logistic Regression Bootstrap Uncertainty 27.77%, SVM Bootstrap Uncertainty 27.77%\n",
            "Sample Size 32: Logistic Regression Bootstrap Uncertainty 28.62%, SVM Bootstrap Uncertainty 28.62%\n",
            "Sample Size 33: Logistic Regression Bootstrap Uncertainty 28.73%, SVM Bootstrap Uncertainty 28.73%\n",
            "Sample Size 34: Logistic Regression Bootstrap Uncertainty 27.91%, SVM Bootstrap Uncertainty 27.91%\n",
            "Sample Size 35: Logistic Regression Bootstrap Uncertainty 27.60%, SVM Bootstrap Uncertainty 27.60%\n",
            "Sample Size 36: Logistic Regression Bootstrap Uncertainty 28.31%, SVM Bootstrap Uncertainty 28.31%\n",
            "Sample Size 37: Logistic Regression Bootstrap Uncertainty 28.22%, SVM Bootstrap Uncertainty 28.22%\n",
            "Sample Size 38: Logistic Regression Bootstrap Uncertainty 28.29%, SVM Bootstrap Uncertainty 28.29%\n",
            "Sample Size 39: Logistic Regression Bootstrap Uncertainty 29.15%, SVM Bootstrap Uncertainty 29.15%\n",
            "Sample Size 40: Logistic Regression Bootstrap Uncertainty 29.35%, SVM Bootstrap Uncertainty 29.35%\n",
            "Sample Size 41: Logistic Regression Bootstrap Uncertainty 27.88%, SVM Bootstrap Uncertainty 27.88%\n",
            "Sample Size 42: Logistic Regression Bootstrap Uncertainty 28.43%, SVM Bootstrap Uncertainty 28.43%\n",
            "Sample Size 43: Logistic Regression Bootstrap Uncertainty 28.67%, SVM Bootstrap Uncertainty 28.67%\n",
            "Sample Size 44: Logistic Regression Bootstrap Uncertainty 28.02%, SVM Bootstrap Uncertainty 28.02%\n",
            "Sample Size 45: Logistic Regression Bootstrap Uncertainty 29.38%, SVM Bootstrap Uncertainty 29.38%\n",
            "Sample Size 46: Logistic Regression Bootstrap Uncertainty 28.30%, SVM Bootstrap Uncertainty 28.30%\n",
            "Sample Size 47: Logistic Regression Bootstrap Uncertainty 28.30%, SVM Bootstrap Uncertainty 28.30%\n",
            "Sample Size 48: Logistic Regression Bootstrap Uncertainty 28.88%, SVM Bootstrap Uncertainty 28.88%\n",
            "Sample Size 49: Logistic Regression Bootstrap Uncertainty 28.84%, SVM Bootstrap Uncertainty 28.84%\n",
            "Sample Size 50: Logistic Regression Bootstrap Uncertainty 28.38%, SVM Bootstrap Uncertainty 28.38%\n"
          ]
        }
      ]
    }
  ]
}